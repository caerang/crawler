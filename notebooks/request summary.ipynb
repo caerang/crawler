{
 "cells": [
  {
   "cell_type": "code",
   "execution_count": 4,
   "metadata": {},
   "outputs": [],
   "source": [
    "import requests\n",
    "\n",
    "req = requests.get('https://www.naver.com')\n",
    "\n",
    "html = req.text\n",
    "\n",
    "header = req.headers\n",
    "\n",
    "status = req.status_code\n",
    "\n",
    "is_ok = req.ok"
   ]
  },
  {
   "cell_type": "code",
   "execution_count": 5,
   "metadata": {},
   "outputs": [],
   "source": [
    "import requests\n",
    "from bs4 import BeautifulSoup\n",
    "\n",
    "# HTTP Get request\n",
    "req = requests.get('http://www.yes24.com/24/Category/Display/001001003022004?ParamSortTp=04')\n",
    "\n",
    "# Get HTML\n",
    "html = req.text\n",
    "\n",
    "# Convert html to python object by BeautifulSoup\n",
    "soup = BeautifulSoup(html, 'html.parser')"
   ]
  },
  {
   "cell_type": "code",
   "execution_count": 7,
   "metadata": {},
   "outputs": [],
   "source": [
    "contents = soup.find_all('div', class_='goods_info')"
   ]
  },
  {
   "cell_type": "code",
   "execution_count": 8,
   "metadata": {},
   "outputs": [
    {
     "name": "stdout",
     "output_type": "stream",
     "text": [
      "<class 'bs4.element.ResultSet'>\n"
     ]
    }
   ],
   "source": [
    "print(type(contents))"
   ]
  },
  {
   "cell_type": "code",
   "execution_count": 10,
   "metadata": {},
   "outputs": [
    {
     "name": "stdout",
     "output_type": "stream",
     "text": [
      "<class 'bs4.element.Tag'>\n"
     ]
    }
   ],
   "source": [
    "content = contents[0]\n",
    "print(type(content))"
   ]
  },
  {
   "cell_type": "code",
   "execution_count": 25,
   "metadata": {},
   "outputs": [
    {
     "name": "stdout",
     "output_type": "stream",
     "text": [
      "23\n"
     ]
    }
   ],
   "source": [
    "print(len(content))"
   ]
  },
  {
   "cell_type": "code",
   "execution_count": 26,
   "metadata": {},
   "outputs": [
    {
     "name": "stdout",
     "output_type": "stream",
     "text": [
      "<class 'bs4.element.Tag'>\n"
     ]
    }
   ],
   "source": [
    "print(type(content))"
   ]
  },
  {
   "cell_type": "code",
   "execution_count": 27,
   "metadata": {},
   "outputs": [
    {
     "name": "stdout",
     "output_type": "stream",
     "text": [
      "\n",
      "\n",
      "<div class=\"goods_name\">\n",
      "<span class=\"gd_nameF\"></span>\n",
      "<a href=\"/Product/Goods/69772178\">수학으로 배우는 파이썬</a>\n",
      "<span class=\"gd_nameE\">초등 수학으로 재밌고 쉽게 파이썬 배우기</span>\n",
      "<span class=\"gd_feature\"> </span>\n",
      "<a class=\"bgYUI ico_nWin\" href=\"/Product/Goods/69772178\" target=\"_blank\"></a>\n",
      "</div>\n",
      "\n",
      "\n",
      "<div class=\"goods_pubGrp\">\n",
      "<span class=\"goods_auth\">\n",
      "<a href=\"http://www.yes24.com//SearchCorner/Result?domain=ALL&amp;author_yn=Y&amp;query=&amp;auth_no=250748\" target=\"_blank\">다나카 카즈나리</a> 저/<a href=\"http://www.yes24.com//SearchCorner/Result?domain=ALL&amp;author_yn=Y&amp;query=&amp;auth_no=183966\" target=\"_blank\">유세라</a> 역                          \r\n",
      "                        \r\n",
      "                        </span>\n",
      "<em class=\"divi\">|</em>\n",
      "<span class=\"goods_pub\">영진닷컴</span>\n",
      "<em class=\"divi\">|</em>\n",
      "<span class=\"goods_date\">2019년 03월</span>\n",
      "</div>\n",
      "\n",
      "\n",
      "<div class=\"goods_price\">\n",
      "<em class=\"yes_b\">11,700</em>원\r\n",
      "                        \r\n",
      "                        <span class=\"goods_benefit\">(10% 할인)</span>\n",
      "<em class=\"bgYUI ico_point\">포인트적립</em> 650원  \r\n",
      "                                                \r\n",
      "                    </div>\n",
      "\n",
      "\n",
      "<div class=\"goods_deli\">\r\n",
      "\r\n",
      "\t\t출고 예상일 : <strong class=\"deli_act\">3일</strong> 이내 <a class=\"bgYUI ico_comm ico_help\" href=\"javascript:void(0);\" onclick=\"openlayerNew('dPop_forecast',this, 378);\">출고예상일과 상품수령 안내</a>\n",
      "</div>\n",
      "\n",
      "\n",
      "분철서비스 시작\n",
      "\n",
      "\n",
      "분철서비스 종료\n",
      "\n",
      "\n",
      "알림신청 시작\n",
      "\n",
      "\n",
      "알림신청 종료\n",
      "\n",
      "\n",
      "상품정보(특징2, MD코멘트, 편집자문구) 시작\n",
      "\n",
      "\n",
      "상품정보(특징2, MD코멘트, 편집자문구) 종료\n",
      "\n",
      "\n",
      "<div class=\"goods_read\">\r\n",
      "\t\t\t                어렵다고 느꼈던 파이썬 프로그램을초등 수학으로 간단하고 재미있게 배워봅시다!최근 초등학생들이 프로그래밍 언어를 배우는 시대가 왔습니다. 또한, IT 입문자들이나 비전공자들에게도 프로그래밍 공부가 확산되고 있습니다. 그중에서도 파이썬은 문법이 다른 언어에 비해 간결하고 생산성이 높아 초보자들이 쉽게 배울 ...\r\n",
      "\t\t\t            </div>\n",
      "\n",
      "\n"
     ]
    }
   ],
   "source": [
    "for ele in content:\n",
    "    print(ele)"
   ]
  },
  {
   "cell_type": "code",
   "execution_count": 12,
   "metadata": {},
   "outputs": [
    {
     "name": "stdout",
     "output_type": "stream",
     "text": [
      "<div class=\"goods_info\">\n",
      "<div class=\"goods_keynote\">\n",
      "<span class=\"iconC reserv\"><em class=\"txt\">예약판매</em></span> <span class=\"iconC event\"><em class=\"txt\">이벤트</em></span>\n",
      "</div>\n",
      "<div class=\"goods_name\">\n",
      "<span class=\"gd_nameF\"></span>\n",
      "<a href=\"/Product/Goods/69758579\">배프의 오지랖 파이썬 웹프로그래밍</a>\n",
      "<span class=\"gd_nameE\">Django로 쉽게 배우는</span>\n",
      "<span class=\"gd_feature\"> </span>\n",
      "<a class=\"bgYUI ico_nWin\" href=\"/Product/Goods/69758579\" target=\"_blank\"></a>\n",
      "</div>\n",
      "<div class=\"goods_pubGrp\">\n",
      "<span class=\"goods_auth\">\n",
      "<a href=\"http://www.yes24.com//SearchCorner/Result?domain=ALL&amp;author_yn=Y&amp;query=&amp;auth_no=250467\" target=\"_blank\">배프(배우는</a> 저                          \r\n",
      "                        \r\n",
      "                        </span>\n",
      "<em class=\"divi\">|</em>\n",
      "<span class=\"goods_pub\">디지털북스</span>\n",
      "<em class=\"divi\">|</em>\n",
      "<span class=\"goods_date\">2019년 03월</span>\n",
      "</div>\n",
      "<div class=\"goods_price\">\n",
      "<em class=\"yes_b\">19,800</em>원\r\n",
      "                        \r\n",
      "                        <span class=\"goods_benefit\">(10% 할인)</span>\n",
      "<em class=\"bgYUI ico_point\">포인트적립</em> 1,100원  \r\n",
      "                                                \r\n",
      "                    </div>\n",
      "<div class=\"goods_deli\">\n",
      "<strong class=\"deli_act\">2019년 03월 06일 발송예정 (예약판매)</strong>\r\n",
      "    (예정일 이후 1~2일 이내 받을 수 있습니다.)\r\n",
      "\r\n",
      "</div>\n",
      "<!--분철서비스 시작-->\n",
      "<!--분철서비스 종료-->\n",
      "<!--알림신청 시작-->\n",
      "<!--알림신청 종료-->\n",
      "<!--상품정보(특징2, MD코멘트, 편집자문구) 시작-->\n",
      "<div class=\"goods_infoLi\">\n",
      "<ul class=\"yesAlertLi\">\n",
      "<li><strong class=\"txC_blue\">2019/03/06 이후 배송가능</strong></li>\n",
      "</ul>\n",
      "</div>\n",
      "<!--상품정보(특징2, MD코멘트, 편집자문구) 종료-->\n",
      "<div class=\"goods_read\">\r\n",
      "\t\t\t                기초부터 실전 웹 서비스까지 다 담았다!현직 개발자이자 IT강사인 배프의 강의와 실무를 통해 쌓은 노하우를 한 단계식 알려드립니다. 현 웹 프로그래밍 시장은 다양한 기술을 활용하여 얼마나 따른 시간 안에 서비스를 만들어 출시하는 지를 경쟁하는 전쟁 통입니다. 수많은 기업에서 활용하는 기술들을 습득하려면 절대...\r\n",
      "\t\t\t            </div>\n",
      "<div class=\"goods_eve\">\n",
      "<ul class=\"yesAlertLi\">\n",
      "<li><em class=\"bgYUI bl_dot\"></em><em class=\"txC_blue\">[선착순]</em> <em class=\"txC_blue\">[사은품]</em> <a href=\"http://www.yes24.com/eWorld/EventWorld/Event?eventno=130650\">IT모바일 예약판매 이벤트</a>\n",
      "<em class=\"txC_gray\">(19.01.28 ~ 19.12.31)</em>\n",
      "<a href=\"http://www.yes24.com/eWorld/EventWorld/Event?eventno=130650\" target=\"_blank\"><em class=\"bgYUI ico_nWin\">새창 이동</em></a></li>\n",
      "</ul>\n",
      "</div>\n",
      "</div>\n"
     ]
    }
   ],
   "source": [
    "print(content)"
   ]
  },
  {
   "cell_type": "code",
   "execution_count": 13,
   "metadata": {},
   "outputs": [
    {
     "name": "stdout",
     "output_type": "stream",
     "text": [
      "<class 'bs4.element.Tag'>\n"
     ]
    }
   ],
   "source": [
    "content = contents[1]\n",
    "print(type(content))"
   ]
  },
  {
   "cell_type": "code",
   "execution_count": 18,
   "metadata": {},
   "outputs": [
    {
     "name": "stdout",
     "output_type": "stream",
     "text": [
      "<div class=\"goods_name\">\n",
      "<span class=\"gd_nameF\"></span>\n",
      "<a href=\"/Product/Goods/69772178\">수학으로 배우는 파이썬</a>\n",
      "<span class=\"gd_nameE\">초등 수학으로 재밌고 쉽게 파이썬 배우기</span>\n",
      "<span class=\"gd_feature\"> </span>\n",
      "<a class=\"bgYUI ico_nWin\" href=\"/Product/Goods/69772178\" target=\"_blank\"></a>\n",
      "</div>\n"
     ]
    }
   ],
   "source": [
    "print(content.div)"
   ]
  },
  {
   "cell_type": "code",
   "execution_count": 19,
   "metadata": {},
   "outputs": [
    {
     "name": "stdout",
     "output_type": "stream",
     "text": [
      "<class 'bs4.element.Tag'>\n"
     ]
    }
   ],
   "source": [
    "print(type(content.div))"
   ]
  },
  {
   "cell_type": "code",
   "execution_count": 28,
   "metadata": {},
   "outputs": [
    {
     "name": "stdout",
     "output_type": "stream",
     "text": [
      "<div class=\"goods_info\">\n",
      "<div class=\"goods_name\">\n",
      "<span class=\"gd_nameF\"></span>\n",
      "<a href=\"/Product/Goods/69772178\">수학으로 배우는 파이썬</a>\n",
      "<span class=\"gd_nameE\">초등 수학으로 재밌고 쉽게 파이썬 배우기</span>\n",
      "<span class=\"gd_feature\"> </span>\n",
      "<a class=\"bgYUI ico_nWin\" href=\"/Product/Goods/69772178\" target=\"_blank\"></a>\n",
      "</div>\n",
      "<div class=\"goods_pubGrp\">\n",
      "<span class=\"goods_auth\">\n",
      "<a href=\"http://www.yes24.com//SearchCorner/Result?domain=ALL&amp;author_yn=Y&amp;query=&amp;auth_no=250748\" target=\"_blank\">다나카 카즈나리</a> 저/<a href=\"http://www.yes24.com//SearchCorner/Result?domain=ALL&amp;author_yn=Y&amp;query=&amp;auth_no=183966\" target=\"_blank\">유세라</a> 역                          \r\n",
      "                        \r\n",
      "                        </span>\n",
      "<em class=\"divi\">|</em>\n",
      "<span class=\"goods_pub\">영진닷컴</span>\n",
      "<em class=\"divi\">|</em>\n",
      "<span class=\"goods_date\">2019년 03월</span>\n",
      "</div>\n",
      "<div class=\"goods_price\">\n",
      "<em class=\"yes_b\">11,700</em>원\r\n",
      "                        \r\n",
      "                        <span class=\"goods_benefit\">(10% 할인)</span>\n",
      "<em class=\"bgYUI ico_point\">포인트적립</em> 650원  \r\n",
      "                                                \r\n",
      "                    </div>\n",
      "<div class=\"goods_deli\">\r\n",
      "\r\n",
      "\t\t출고 예상일 : <strong class=\"deli_act\">3일</strong> 이내 <a class=\"bgYUI ico_comm ico_help\" href=\"javascript:void(0);\" onclick=\"openlayerNew('dPop_forecast',this, 378);\">출고예상일과 상품수령 안내</a>\n",
      "</div>\n",
      "<!--분철서비스 시작-->\n",
      "<!--분철서비스 종료-->\n",
      "<!--알림신청 시작-->\n",
      "<!--알림신청 종료-->\n",
      "<!--상품정보(특징2, MD코멘트, 편집자문구) 시작-->\n",
      "<!--상품정보(특징2, MD코멘트, 편집자문구) 종료-->\n",
      "<div class=\"goods_read\">\r\n",
      "\t\t\t                어렵다고 느꼈던 파이썬 프로그램을초등 수학으로 간단하고 재미있게 배워봅시다!최근 초등학생들이 프로그래밍 언어를 배우는 시대가 왔습니다. 또한, IT 입문자들이나 비전공자들에게도 프로그래밍 공부가 확산되고 있습니다. 그중에서도 파이썬은 문법이 다른 언어에 비해 간결하고 생산성이 높아 초보자들이 쉽게 배울 ...\r\n",
      "\t\t\t            </div>\n",
      "</div>\n"
     ]
    }
   ],
   "source": [
    "print(content)"
   ]
  },
  {
   "cell_type": "code",
   "execution_count": 32,
   "metadata": {},
   "outputs": [
    {
     "name": "stdout",
     "output_type": "stream",
     "text": [
      "[<div class=\"goods_name\">\n",
      "<span class=\"gd_nameF\"></span>\n",
      "<a href=\"/Product/Goods/69772178\">수학으로 배우는 파이썬</a>\n",
      "<span class=\"gd_nameE\">초등 수학으로 재밌고 쉽게 파이썬 배우기</span>\n",
      "<span class=\"gd_feature\"> </span>\n",
      "<a class=\"bgYUI ico_nWin\" href=\"/Product/Goods/69772178\" target=\"_blank\"></a>\n",
      "</div>]\n"
     ]
    }
   ],
   "source": [
    "goods_name = [div for div in content.find_all('div') if 'goods_name' in div['class']]\n",
    "print(goods_name)"
   ]
  },
  {
   "cell_type": "code",
   "execution_count": 14,
   "metadata": {
    "scrolled": true
   },
   "outputs": [
    {
     "name": "stdout",
     "output_type": "stream",
     "text": [
      "<div class=\"goods_info\">\n",
      "<div class=\"goods_name\">\n",
      "<span class=\"gd_nameF\"></span>\n",
      "<a href=\"/Product/Goods/69772178\">수학으로 배우는 파이썬</a>\n",
      "<span class=\"gd_nameE\">초등 수학으로 재밌고 쉽게 파이썬 배우기</span>\n",
      "<span class=\"gd_feature\"> </span>\n",
      "<a class=\"bgYUI ico_nWin\" href=\"/Product/Goods/69772178\" target=\"_blank\"></a>\n",
      "</div>\n",
      "<div class=\"goods_pubGrp\">\n",
      "<span class=\"goods_auth\">\n",
      "<a href=\"http://www.yes24.com//SearchCorner/Result?domain=ALL&amp;author_yn=Y&amp;query=&amp;auth_no=250748\" target=\"_blank\">다나카 카즈나리</a> 저/<a href=\"http://www.yes24.com//SearchCorner/Result?domain=ALL&amp;author_yn=Y&amp;query=&amp;auth_no=183966\" target=\"_blank\">유세라</a> 역                          \r\n",
      "                        \r\n",
      "                        </span>\n",
      "<em class=\"divi\">|</em>\n",
      "<span class=\"goods_pub\">영진닷컴</span>\n",
      "<em class=\"divi\">|</em>\n",
      "<span class=\"goods_date\">2019년 03월</span>\n",
      "</div>\n",
      "<div class=\"goods_price\">\n",
      "<em class=\"yes_b\">11,700</em>원\r\n",
      "                        \r\n",
      "                        <span class=\"goods_benefit\">(10% 할인)</span>\n",
      "<em class=\"bgYUI ico_point\">포인트적립</em> 650원  \r\n",
      "                                                \r\n",
      "                    </div>\n",
      "<div class=\"goods_deli\">\r\n",
      "\r\n",
      "\t\t출고 예상일 : <strong class=\"deli_act\">3일</strong> 이내 <a class=\"bgYUI ico_comm ico_help\" href=\"javascript:void(0);\" onclick=\"openlayerNew('dPop_forecast',this, 378);\">출고예상일과 상품수령 안내</a>\n",
      "</div>\n",
      "<!--분철서비스 시작-->\n",
      "<!--분철서비스 종료-->\n",
      "<!--알림신청 시작-->\n",
      "<!--알림신청 종료-->\n",
      "<!--상품정보(특징2, MD코멘트, 편집자문구) 시작-->\n",
      "<!--상품정보(특징2, MD코멘트, 편집자문구) 종료-->\n",
      "<div class=\"goods_read\">\r\n",
      "\t\t\t                어렵다고 느꼈던 파이썬 프로그램을초등 수학으로 간단하고 재미있게 배워봅시다!최근 초등학생들이 프로그래밍 언어를 배우는 시대가 왔습니다. 또한, IT 입문자들이나 비전공자들에게도 프로그래밍 공부가 확산되고 있습니다. 그중에서도 파이썬은 문법이 다른 언어에 비해 간결하고 생산성이 높아 초보자들이 쉽게 배울 ...\r\n",
      "\t\t\t            </div>\n",
      "</div>\n"
     ]
    }
   ],
   "source": [
    "print(content)"
   ]
  },
  {
   "cell_type": "markdown",
   "metadata": {},
   "source": [
    "goods_info = soup.find_all('div', class_='goods_info')\n",
    "for goods in goods_info:\n",
    "    title = goods.find(class_='goods_name').a.get_text().rstrip('\\n')\n",
    "    sub_title = goods.find(class_='gd_nameE').get_text().rstrip('\\n')\n",
    "    author = goods.find(class_='goods_auth').get_text().rstrip('\\n')\n",
    "    pub_date = goods.find(class_='goods_date').get_text().rstrip('\\n')\n",
    "    good_pub = goods.find(class_='goods_pub').get_text().rstrip('\\n')\n",
    "    total_title = title if sub_title is None else f'{title}: {sub_title}'\n",
    "    print(total_title)\n",
    "    print(author)\n",
    "    print(pub_date)\n",
    "    print(good_pub)\n",
    "    print()"
   ]
  },
  {
   "cell_type": "markdown",
   "metadata": {},
   "source": [
    "https://www.dataquest.io/blog/web-scraping-tutorial-python/"
   ]
  }
 ],
 "metadata": {
  "kernelspec": {
   "display_name": "Python 3",
   "language": "python",
   "name": "python3"
  },
  "language_info": {
   "codemirror_mode": {
    "name": "ipython",
    "version": 3
   },
   "file_extension": ".py",
   "mimetype": "text/x-python",
   "name": "python",
   "nbconvert_exporter": "python",
   "pygments_lexer": "ipython3",
   "version": "3.7.2"
  }
 },
 "nbformat": 4,
 "nbformat_minor": 2
}
